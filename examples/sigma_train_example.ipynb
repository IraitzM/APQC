{
 "cells": [
  {
   "cell_type": "code",
   "execution_count": 1,
   "metadata": {},
   "outputs": [],
   "source": [
    "from apqc.sample_data import get_2d_toy_data\n",
    "\n",
    "D = 2\n",
    "samples = 2000\n",
    "batch_manual = 1000\n",
    "scan_length = 3\n",
    "\n",
    "X, y = get_2d_toy_data(\"original_paper_toy_data_1\", n_samples=samples, noise=0.15)"
   ]
  },
  {
   "cell_type": "code",
   "execution_count": null,
   "metadata": {},
   "outputs": [],
   "source": [
    "from sklearn.preprocessing import StandardScaler\n",
    "\n",
    "scaler = StandardScaler()\n",
    "x_gen = scaler.fit_transform(X)"
   ]
  },
  {
   "cell_type": "code",
   "execution_count": null,
   "metadata": {},
   "outputs": [],
   "source": [
    "import seaborn as sns\n",
    "import matplotlib.pyplot as plt\n",
    "\n",
    "sns.scatterplot(x=x_gen[:, 0], y=x_gen[:, 1], alpha=0.6, hue=y.flatten(), palette=\"deep\")\n",
    "plt.show()"
   ]
  },
  {
   "cell_type": "code",
   "execution_count": null,
   "metadata": {},
   "outputs": [],
   "source": [
    "from apqc.pqc import PQC\n",
    "\n",
    "pqc = PQC(data_gen=x_gen, float_type=32, batch=batch_manual, force_cpu=True)\n",
    "\n",
    "result_dict = {\n",
    "    \"sigmas\": [],\n",
    "    \"clusters_sgd\": [],\n",
    "    \"clusters_proba\": [],\n",
    "    \"likelihood\": []\n",
    "}"
   ]
  },
  {
   "cell_type": "code",
   "execution_count": null,
   "metadata": {},
   "outputs": [],
   "source": [
    "import numpy as np\n",
    "from apqc.density_estimation import DensityEstimator\n",
    "\n",
    "d_e = DensityEstimator(data_gen=pqc.data_gen, batch=batch_manual, scale=pqc.scale)\n",
    "\n",
    "init_log_sigmas = np.ones((d_e.data_gen.shape[0], 1)) * np.log(1)\n",
    "\n",
    "ll = d_e.fit(preset_init=init_log_sigmas)\n",
    "\n",
    "log_sigmas = d_e.log_sigma.value()\n",
    "sigmas = np.exp(log_sigmas)"
   ]
  },
  {
   "cell_type": "code",
   "execution_count": null,
   "metadata": {},
   "outputs": [],
   "source": [
    "plt.plot(ll)\n",
    "plt.show()"
   ]
  },
  {
   "cell_type": "code",
   "execution_count": null,
   "metadata": {},
   "outputs": [],
   "source": [
    "cm = plt.cm.get_cmap('RdYlBu')\n",
    "fig, axs = plt.subplots(2, 1, figsize=(12, 8))\n",
    "\n",
    "sc0 = axs[0].scatter(x_gen[:, 0], x_gen[:, 1], c=log_sigmas, vmin=min(log_sigmas), vmax=max(log_sigmas),\n",
    "                        s=35, cmap=cm, alpha=0.4)\n",
    "sc1 = axs[1].scatter(x_gen[:, 0], x_gen[:, 1], c=sigmas, vmin=min(sigmas), vmax=max(sigmas),\n",
    "                        s=35, cmap=cm, alpha=0.3)\n",
    "fig.colorbar(sc0, ax=axs[0])\n",
    "fig.colorbar(sc1, ax=axs[1])\n",
    "plt.show()"
   ]
  },
  {
   "cell_type": "code",
   "execution_count": null,
   "metadata": {},
   "outputs": [],
   "source": [
    "import pandas as pd\n",
    "\n",
    "pqc.set_sigmas(sigma_value=sigmas)\n",
    "pqc.cluster_allocation_by_sgd()\n",
    "pqc.cluster_allocation_by_probability()\n",
    "sgd_k = np.unique(pqc.sgd_labels).shape[0]\n",
    "proba_k = np.unique(pqc.proba_labels).shape[0]\n",
    "result_dict[\"sigmas\"].append(np.mean(sigmas))\n",
    "result_dict[\"clusters_sgd\"].append(sgd_k)\n",
    "result_dict[\"clusters_proba\"].append(proba_k)\n",
    "result_dict[\"likelihood\"].append(pqc.ll)\n",
    "\n",
    "for i, sigma_i in enumerate(np.linspace(0.2, 0.6, scan_length)):\n",
    "    pqc.set_sigmas(knn_ratio=sigma_i)\n",
    "    pqc.cluster_allocation_by_sgd()\n",
    "    pqc.cluster_allocation_by_probability()\n",
    "    sgd_k = np.unique(pqc.sgd_labels).shape[0]\n",
    "    proba_k = np.unique(pqc.proba_labels).shape[0]\n",
    "    result_dict[\"sigmas\"].append(sigma_i)\n",
    "    result_dict[\"clusters_sgd\"].append(sgd_k)\n",
    "    result_dict[\"clusters_proba\"].append(proba_k)\n",
    "    result_dict[\"likelihood\"].append(pqc.ll)\n",
    "\n",
    "results = pd.DataFrame(result_dict)\n",
    "\n",
    "plt.subplot(2, 1, 1)\n",
    "plt.plot(results[\"sigmas\"], results[\"likelihood\"], \"-*\")\n",
    "plt.grid(which=\"both\")\n",
    "plt.subplot(2, 1, 2)\n",
    "plt.semilogy(results[\"sigmas\"], results[\"clusters_proba\"], \"-+\")\n",
    "plt.grid(which=\"both\")\n",
    "plt.show()"
   ]
  },
  {
   "cell_type": "code",
   "execution_count": null,
   "metadata": {},
   "outputs": [],
   "source": [
    "best_solution_key = sorted([(k, v[\"loglikelihood\"]) for k, v in pqc.basic_results.items()], key=lambda x: x[1])[0][0]\n",
    "best_proba_labels = pqc.basic_results[best_solution_key][\"proba_labels\"]\n",
    "proba_x_k = pqc.basic_results[best_solution_key][\"proba_winner\"]\n",
    "\n",
    "sns.scatterplot(x=x_gen[:, 0], y=x_gen[:, 1], alpha=0.4, hue=best_proba_labels, size=proba_x_k, palette=\"deep\")\n",
    "plt.show()"
   ]
  },
  {
   "cell_type": "code",
   "execution_count": null,
   "metadata": {},
   "outputs": [],
   "source": [
    "knn_ratios = np.linspace(0.25, 0.35, 3)\n",
    "pqc.scan_multiple_sigmas(knn_ratios=knn_ratios)"
   ]
  }
 ],
 "metadata": {
  "kernelspec": {
   "display_name": ".venv",
   "language": "python",
   "name": "python3"
  },
  "language_info": {
   "codemirror_mode": {
    "name": "ipython",
    "version": 3
   },
   "file_extension": ".py",
   "mimetype": "text/x-python",
   "name": "python",
   "nbconvert_exporter": "python",
   "pygments_lexer": "ipython3",
   "version": "3.11.4"
  },
  "orig_nbformat": 4
 },
 "nbformat": 4,
 "nbformat_minor": 2
}
